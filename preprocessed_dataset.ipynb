{
 "cells": [
  {
   "cell_type": "code",
   "execution_count": null,
   "id": "c8c6d83f",
   "metadata": {},
   "outputs": [],
   "source": [
    "\n",
    "from google.colab import drive\n",
    "drive.mount('/content/drive')\n",
    "\n",
    "# Save dataset to Drive\n",
    "!cp cleaned_data.csv /content/drive/MyDrive/cleaned_data.csv\n",
    "print(\"✅ File uploaded to Google Drive: /MyDrive/cleaned_data.csv\")\n"
   ]
  },
  {
   "cell_type": "code",
   "execution_count": null,
   "id": "f639b683",
   "metadata": {},
   "outputs": [],
   "source": [
    "\n",
    "import pandas as pd\n",
    "\n",
    "df = pd.read_csv('/content/drive/MyDrive/cleaned_data.csv')\n",
    "print(\"🔹 Loaded dataset shape:\", df.shape)\n",
    "df.head()\n"
   ]
  }
 ],
 "metadata": {},
 "nbformat": 4,
 "nbformat_minor": 5
}
